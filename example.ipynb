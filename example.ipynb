{
 "cells": [
  {
   "cell_type": "markdown",
   "metadata": {},
   "source": [
    "# Explanatory examples\n",
    "The examples below are created with the intent to help understand how to use the functions and classes in this repo."
   ]
  },
  {
   "cell_type": "code",
   "execution_count": 1,
   "metadata": {},
   "outputs": [],
   "source": [
    "import mappings\n",
    "import get_instances\n",
    "import solver"
   ]
  },
  {
   "cell_type": "markdown",
   "metadata": {},
   "source": [
    "## Load an instance configuration\n",
    "Load an instance from the folder `instances`"
   ]
  },
  {
   "cell_type": "code",
   "execution_count": 2,
   "metadata": {},
   "outputs": [
    {
     "name": "stdout",
     "output_type": "stream",
     "text": [
      "LsssdInstance(name='lss_ne6.csv_11_29_nbcfeas_scn0', numOfPorts=12, ports=array(['CNTAO', 'KRKAN', 'KRPUS', 'CNSHA', 'CNYTN', 'SGSIN', 'EGSUZ',\n",
      "       'ESALG', 'DEHAM', 'NLRTM', 'FRLEH', 'CNTAO'], dtype='<U5'), timeWindowStart=array([134.,  24.,  49., 103.,  13., 113.,  97.,  67.,  23.,  95., 150.,\n",
      "       134.]), timeWindowEnd=array([154.,  39.,  72., 127.,  27., 135., 115.,  82.,  63., 128., 174.,\n",
      "       154.]), fixedSailingCost=array([[      0.  ,   52388.55,   61842.6 ,   49892.85,  139970.7 ,\n",
      "         306801.9 ,  950142.6 , 1169341.2 , 1373375.25, 1341163.8 ,\n",
      "        1316143.35,       0.  ],\n",
      "       [  51457.95,       0.  ,    9009.9 ,   48073.95,  133794.9 ,\n",
      "         316700.1 ,  958095.  , 1206417.15, 1453999.05, 1376442.  ,\n",
      "        1352013.75,   51457.95],\n",
      "       [  61842.6 ,    9009.9 ,       0.  ,   61081.2 ,  142952.85,\n",
      "         311285.7 ,  963763.2 , 1173825.  , 1377859.05, 1345647.6 ,\n",
      "        1320627.15,   61842.6 ],\n",
      "       [  49892.85,   50865.75,   61081.2 ,       0.  ,  103127.4 ,\n",
      "         274569.3 ,  914251.05, 1137129.75, 1341163.8 , 1308931.2 ,\n",
      "        1283931.9 ,   49892.85],\n",
      "       [ 139970.7 ,  135127.35,  142952.85,  103127.4 ,       0.  ,\n",
      "         180642.15,  821804.4 , 1043202.6 , 1247236.65, 1215004.05,\n",
      "        1190004.75,  139970.7 ],\n",
      "       [ 306801.9 ,  309191.85,  311285.7 ,  274569.3 ,  180642.15,\n",
      "              0.  ,  639660.6 ,  862539.3 , 1066573.35, 1034361.9 ,\n",
      "        1009362.6 ,  306801.9 ],\n",
      "       [ 944982.  ,  946018.35,  955451.25,  905494.95,  820239.3 ,\n",
      "         635028.75,       0.  ,  252298.35,  505506.15,  421159.95,\n",
      "         397620.  ,  944982.  ],\n",
      "       [1169341.2 , 1196074.8 , 1173825.  , 1137129.75, 1043202.6 ,\n",
      "         862539.3 ,  246947.4 ,       0.  ,  204774.3 ,  172562.85,\n",
      "         147542.4 , 1169341.2 ],\n",
      "       [1373375.25, 1444481.55, 1377859.05, 1341163.8 , 1247236.65,\n",
      "        1066573.35,  499351.5 ,  204774.3 ,       0.  ,   38196.9 ,\n",
      "          63576.9 , 1373375.25],\n",
      "       [1341163.8 , 1356857.1 , 1345647.6 , 1308931.2 , 1215004.05,\n",
      "        1034361.9 ,  414899.55,  172562.85,   38196.9 ,       0.  ,\n",
      "          31111.65, 1341163.8 ],\n",
      "       [1316143.35, 1334522.7 , 1320627.15, 1283931.9 , 1190004.75,\n",
      "        1009362.6 ,  392099.85,  147542.4 ,   63576.9 ,   31111.65,\n",
      "              0.  , 1316143.35],\n",
      "       [      0.  ,   52388.55,   61842.6 ,   49892.85,  139970.7 ,\n",
      "         306801.9 ,  950142.6 , 1169341.2 , 1373375.25, 1341163.8 ,\n",
      "        1316143.35,       0.  ]]), sailingTime=array([[  0.  ,  24.77,  29.24,  23.59,  66.18, 145.06, 449.24, 552.88,\n",
      "        649.35, 634.12, 622.29,   0.  ],\n",
      "       [ 24.33,   0.  ,   4.26,  22.73,  63.26, 149.74, 453.  , 570.41,\n",
      "        687.47, 650.8 , 639.25,  24.33],\n",
      "       [ 29.24,   4.26,   0.  ,  28.88,  67.59, 147.18, 455.68, 555.  ,\n",
      "        651.47, 636.24, 624.41,  29.24],\n",
      "       [ 23.59,  24.05,  28.88,   0.  ,  48.76, 129.82, 432.27, 537.65,\n",
      "        634.12, 618.88, 607.06,  23.59],\n",
      "       [ 66.18,  63.89,  67.59,  48.76,   0.  ,  85.41, 388.56, 493.24,\n",
      "        589.71, 574.47, 562.65,  66.18],\n",
      "       [145.06, 146.19, 147.18, 129.82,  85.41,   0.  , 302.44, 407.82,\n",
      "        504.29, 489.06, 477.24, 145.06],\n",
      "       [446.8 , 447.29, 451.75, 428.13, 387.82, 300.25,   0.  , 119.29,\n",
      "        239.01, 199.13, 188.  , 446.8 ],\n",
      "       [552.88, 565.52, 555.  , 537.65, 493.24, 407.82, 116.76,   0.  ,\n",
      "         96.82,  81.59,  69.76, 552.88],\n",
      "       [649.35, 682.97, 651.47, 634.12, 589.71, 504.29, 236.1 ,  96.82,\n",
      "          0.  ,  18.06,  30.06, 649.35],\n",
      "       [634.12, 641.54, 636.24, 618.88, 574.47, 489.06, 196.17,  81.59,\n",
      "         18.06,   0.  ,  14.71, 634.12],\n",
      "       [622.29, 630.98, 624.41, 607.06, 562.65, 477.24, 185.39,  69.76,\n",
      "         30.06,  14.71,   0.  , 622.29],\n",
      "       [  0.  ,  24.77,  29.24,  23.59,  66.18, 145.06, 449.24, 552.88,\n",
      "        649.35, 634.12, 622.29,   0.  ]]), numOfDemands=29, demands=array(['d1', 'd2', 'd3', 'd4', 'd5', 'd6', 'd7', 'd8', 'd9', 'd10', 'd11',\n",
      "       'd12', 'd13', 'd14', 'd15', 'd16', 'd17', 'd18', 'd19', 'd20',\n",
      "       'd21', 'd22', 'd23', 'd24', 'd25', 'd26', 'd27', 'd28', 'd29'],\n",
      "      dtype='<U3'), demandSource=array([ 4,  4,  4,  4,  4,  1,  1,  5,  5,  9,  9,  7,  7,  7,  7,  7,  8,\n",
      "        8, 11,  3,  3, 10, 10, 10, 10, 10, 10,  6,  6]), demandDestination=array([ 9,  7,  8, 11, 10,  7, 10,  7, 10,  4,  7,  4,  8,  3, 10,  6,  4,\n",
      "        7,  4,  7, 10,  4,  1,  5,  7,  3,  6,  7, 10]), demandAmount=array([ 295,  188,  125,  168, 4247,   11,  583,   67, 2158,  100,    2,\n",
      "         35,    3,    3,    7,    9,   58,    7,   40,   97,  750, 1339,\n",
      "         73,   77,   39,  282,   89,   53,  120]), demandRevenue=array([2996.86      , 2946.66666667, 2946.8       , 3006.75      ,\n",
      "       3061.08      , 3478.        , 3085.53      , 2889.32692308,\n",
      "       3211.09      ,  950.62      ,  850.        ,  770.22222222,\n",
      "        406.        , 1083.33333333,  920.        , 1107.27272727,\n",
      "        983.52      ,  464.61538461, 1063.29      , 3518.57142857,\n",
      "       3996.8       ,  982.33      ,  881.52      ,  993.57      ,\n",
      "        844.41176471, 1104.98      ,  949.26      , 2816.61538462,\n",
      "       2752.16      ]), demandTransitTime=array([ 984,  816,  696,  744,  768,  888,  912, 1464,  720,  816,  528,\n",
      "        720,  144,  840,  312,  504,  744,  168,  792,  624,  984,  768,\n",
      "       1008,  792,  312,  864,  648,  552,  648]), capacity=15000.0, charterCost=385000.0, vesselClass='Super_panamax', designSpeed=17.0, designConsumption=126.9)\n"
     ]
    }
   ],
   "source": [
    "example_filename = 'lss_ne6.csv_11_29_nbcfeas_scn0.txt'\n",
    "example_instance = get_instances.create_single_instance(\n",
    "    instance_filename=example_filename,\n",
    "    relaxed=False,\n",
    ")\n",
    "print(example_instance)"
   ]
  },
  {
   "cell_type": "markdown",
   "metadata": {},
   "source": [
    "## Map portorder to ideal solution"
   ]
  },
  {
   "cell_type": "markdown",
   "metadata": {},
   "source": [
    "To map a portorder to its ideal solution, first an instance of the Model class is created."
   ]
  },
  {
   "cell_type": "code",
   "execution_count": 3,
   "metadata": {},
   "outputs": [
    {
     "name": "stdout",
     "output_type": "stream",
     "text": [
      "<mappings.Model3 object at 0x00000185761F41D0>\n"
     ]
    }
   ],
   "source": [
    "example_model = mappings.Model3( # also valid: Model1 or Model2\n",
    "    instance=example_instance,\n",
    "    distribution='genlog_3p', # also valid: 'deterministic' or 'normal'\n",
    "    service_level='0.9000', # Also valid: 0.7000 or 0.9500 (only genlog_3p)\n",
    ")\n",
    "print(example_model)"
   ]
  },
  {
   "cell_type": "markdown",
   "metadata": {},
   "source": [
    "Then a portorder is chosen and its optimal solution is created.\n",
    "\n",
    "The solution object uses only the objective value and the portorder in its representation.\n",
    "Information about the schedule and the transported demands can be accessed as shown below."
   ]
  },
  {
   "cell_type": "code",
   "execution_count": 4,
   "metadata": {},
   "outputs": [
    {
     "name": "stdout",
     "output_type": "stream",
     "text": [
      "Model3Solution(obj_value=np.float64(9951354.364505803), x=array([ 0,  1,  2,  3,  4,  5,  6,  7,  8,  9, 10,  0]))\n",
      "[ 0  2  3  4  6  8 11 13 15 16 17 23]\n",
      "[   0.          189.09083333  381.035       616.91333333  868.07666667\n",
      " 1155.9975     1907.45666667 2131.99416667 2403.16166667 2608.585\n",
      " 2836.83916667 3911.5775    ]\n",
      "[ 134.  360.  553.  775. 1021. 1457. 1945. 2251. 2543. 2783. 3006. 3998.]\n",
      "[ 154.  375.  576.  799. 1035. 1479. 1963. 2266. 2583. 2816. 3030. 4018.]\n",
      "[False False False False False False False  True False False False False\n",
      " False False False False False False False False False False False False\n",
      " False False False  True False]\n"
     ]
    }
   ],
   "source": [
    "example_portorder = (0,1,2,3,4,5,6,7,8,9,10,0)\n",
    "example_sol = example_model.generate_solution(x=example_portorder)\n",
    "print(example_sol)\n",
    "print(example_sol.schedule.w)\n",
    "print(example_sol.schedule.tau_a)\n",
    "print(example_sol.schedule.tau_s)\n",
    "print(example_sol.schedule.tau_e)\n",
    "print(example_sol.y)\n"
   ]
  },
  {
   "cell_type": "markdown",
   "metadata": {},
   "source": [
    "## Find optimal portorder"
   ]
  },
  {
   "cell_type": "markdown",
   "metadata": {},
   "source": [
    "### Steepest 3opt Descent"
   ]
  },
  {
   "cell_type": "code",
   "execution_count": 5,
   "metadata": {},
   "outputs": [
    {
     "data": {
      "text/plain": [
       "Model3Solution(obj_value=np.float64(5993982.387930944), x=array([ 0,  1,  2, 10,  9,  8,  7,  6,  5,  4,  3,  0]))"
      ]
     },
     "execution_count": 5,
     "metadata": {},
     "output_type": "execute_result"
    }
   ],
   "source": [
    "s3d_solver = solver.LSSolverSteepest3opt(model = example_model)\n",
    "s3d_result = s3d_solver.solve()\n",
    "s3d_result[0]\n"
   ]
  },
  {
   "cell_type": "markdown",
   "metadata": {},
   "source": [
    "### First 2Hopt Descent"
   ]
  },
  {
   "cell_type": "code",
   "execution_count": 6,
   "metadata": {},
   "outputs": [
    {
     "data": {
      "text/plain": [
       "Model3Solution(obj_value=np.float64(5993982.387930944), x=array([ 0,  1,  2, 10,  9,  8,  7,  6,  5,  4,  3,  0]))"
      ]
     },
     "execution_count": 6,
     "metadata": {},
     "output_type": "execute_result"
    }
   ],
   "source": [
    "f2hd_solver = solver.LSSolverFirst2Hopt(model = example_model)\n",
    "f2hd_result = f2hd_solver.solve()\n",
    "f2hd_result[0]"
   ]
  },
  {
   "cell_type": "markdown",
   "metadata": {},
   "source": [
    "### Tabu Search"
   ]
  },
  {
   "cell_type": "code",
   "execution_count": 7,
   "metadata": {},
   "outputs": [
    {
     "data": {
      "text/plain": [
       "Model3Solution(obj_value=np.float64(5831424.076462179), x=array([ 0,  2,  6,  9,  8, 10,  7,  5,  4,  3,  1,  0]))"
      ]
     },
     "execution_count": 7,
     "metadata": {},
     "output_type": "execute_result"
    }
   ],
   "source": [
    "tabu_solver = solver.TabuSolver(model = example_model, max_runtime=100)\n",
    "tabu_result = tabu_solver.solve()\n",
    "tabu_result[0]"
   ]
  },
  {
   "cell_type": "markdown",
   "metadata": {},
   "source": [
    "### ILS"
   ]
  },
  {
   "cell_type": "code",
   "execution_count": 8,
   "metadata": {},
   "outputs": [
    {
     "data": {
      "text/plain": [
       "Model3Solution(obj_value=np.float64(5831424.076462179), x=array([ 0,  2,  6,  9,  8, 10,  7,  5,  4,  3,  1,  0]))"
      ]
     },
     "execution_count": 8,
     "metadata": {},
     "output_type": "execute_result"
    }
   ],
   "source": [
    "ils_solver = solver.ILSSolver(model = example_model, max_runtime=100)\n",
    "ils_result = ils_solver.solve()\n",
    "ils_result[0]"
   ]
  }
 ],
 "metadata": {
  "kernelspec": {
   "display_name": ".venv",
   "language": "python",
   "name": "python3"
  },
  "language_info": {
   "codemirror_mode": {
    "name": "ipython",
    "version": 3
   },
   "file_extension": ".py",
   "mimetype": "text/x-python",
   "name": "python",
   "nbconvert_exporter": "python",
   "pygments_lexer": "ipython3",
   "version": "3.12.3"
  }
 },
 "nbformat": 4,
 "nbformat_minor": 2
}
